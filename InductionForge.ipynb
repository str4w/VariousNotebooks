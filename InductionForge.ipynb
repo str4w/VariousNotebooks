{
 "cells": [
  {
   "cell_type": "markdown",
   "metadata": {},
   "source": [
    "Some calculations relating to the induction forge\n",
    "======\n",
    "\n",
    "Making some assumptions about efficiency, how fast could we melt various objects."
   ]
  },
  {
   "cell_type": "code",
   "execution_count": 3,
   "metadata": {},
   "outputs": [
    {
     "name": "stdout",
     "output_type": "stream",
     "text": [
      "Volume is 62.8 cm^3\n",
      "Mass of aluminium cylinder: 169.6 g\n",
      "Energy required to melt with no loss 164728.910092 J, 45.758031 Wh\n",
      "Time required to melt, 75% losses, 21.963855 minutes\n"
     ]
    }
   ],
   "source": [
    "import numpy as np\n",
    "# Volume of a cylinder l cm long,  r cm radius\n",
    "l=10.0\n",
    "r=1.0\n",
    "V=2.0*np.pi * r * r * l\n",
    "print(\"Volume is %3.1f cm^3\"%(V,))\n",
    "# Mass if aluminum\n",
    "al_density=2.7 # grams / cm^3\n",
    "M=al_density*V\n",
    "print(\"Mass of aluminium cylinder: %3.1f g\"%(M,))\n",
    "# Energy required to melt it.\n",
    "# atomic weight \n",
    "Al_g_per_mol=26.98\n",
    "# molar heat capacity of Al\n",
    "Al_SH_J_per_molK=24.20 #J/molk\n",
    "# Enthalpy of fusion\n",
    "Al_Ent_J_per_mol=10710. #J/mol\n",
    "# Melting point \n",
    "Al_melt=660 # Celsius\n",
    "\n",
    "#energy in joules to melt it from 20C with no loss\n",
    "#Note that a Joule is a Watt.Second\n",
    "E=(Al_melt-20.)*Al_SH_J_per_molK*M/Al_g_per_mol + M/Al_g_per_mol*Al_Ent_J_per_mol\n",
    "print(\"Energy required to melt with no loss %f J, %f Wh\"%(E,E/3600.))\n",
    "\n",
    "# time required to melt, assuming 75% loss, at 500 W\n",
    "loss=0.75\n",
    "power=500 # Watts\n",
    "time_min=E/(1.-loss)/power/60.\n",
    "print(\"Time required to melt, 75%% losses, %f minutes\"%(time_min,))"
   ]
  },
  {
   "cell_type": "code",
   "execution_count": 4,
   "metadata": {},
   "outputs": [
    {
     "name": "stdout",
     "output_type": "stream",
     "text": [
      "Mass of iron cylinder: 494.7 g\n",
      "Energy required to melt with no loss 459893.288279 J, 127.748136 Wh\n",
      "Time required to melt, 75% losses, 61.319105 minutes\n"
     ]
    }
   ],
   "source": [
    "# Mass if iron\n",
    "fe_density=7.874 # grams / cm^3\n",
    "M=fe_density*V\n",
    "print(\"Mass of iron cylinder: %3.1f g\"%(M,))\n",
    "# Energy required to melt it.\n",
    "# atomic weight \n",
    "Fe_g_per_mol=55.845\n",
    "# molar heat capacity of Al\n",
    "Fe_SH_J_per_molK=25.10 #J/molk\n",
    "# Enthalpy of fusion\n",
    "Fe_Ent_J_per_mol=13810. #J/mol\n",
    "# Melting point \n",
    "Fe_melt=1538 # Celsius\n",
    "\n",
    "#energy in joules to melt it from 20C with no loss\n",
    "#Note that a Joule is a Watt.Second\n",
    "E=(Fe_melt-20.)*Fe_SH_J_per_molK*M/Fe_g_per_mol + M/Fe_g_per_mol*Fe_Ent_J_per_mol\n",
    "print(\"Energy required to melt with no loss %f J, %f Wh\"%(E,E/3600.))\n",
    "\n",
    "# time required to melt, assuming 75% loss, at 500 W\n",
    "loss=0.75\n",
    "power=500 # Watts\n",
    "time_min=E/(1.-loss)/power/60.\n",
    "print(\"Time required to melt, 75%% losses, %f minutes\"%(time_min,))"
   ]
  },
  {
   "cell_type": "code",
   "execution_count": null,
   "metadata": {},
   "outputs": [],
   "source": []
  }
 ],
 "metadata": {
  "kernelspec": {
   "display_name": "Python 3",
   "language": "python",
   "name": "python3"
  },
  "language_info": {
   "codemirror_mode": {
    "name": "ipython",
    "version": 3
   },
   "file_extension": ".py",
   "mimetype": "text/x-python",
   "name": "python",
   "nbconvert_exporter": "python",
   "pygments_lexer": "ipython3",
   "version": "3.6.6"
  }
 },
 "nbformat": 4,
 "nbformat_minor": 2
}
