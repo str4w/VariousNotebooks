{
 "cells": [
  {
   "cell_type": "code",
   "execution_count": 3,
   "metadata": {},
   "outputs": [
    {
     "name": "stdout",
     "output_type": "stream",
     "text": [
      "1 x 142857 = 142857\n",
      "2 x 142857 = 285714\n",
      "3 x 142857 = 428571\n",
      "4 x 142857 = 571428\n",
      "5 x 142857 = 714285\n",
      "6 x 142857 = 857142\n",
      "7 x 142857 = 999999\n",
      "8 x 142857 = 1142856\n",
      "9 x 142857 = 1285713\n"
     ]
    }
   ],
   "source": [
    "for i in range(1,10):\n",
    "   print(\"%d x 142857 = %d\"%(i,142857*i))\n",
    "   "
   ]
  },
  {
   "cell_type": "markdown",
   "metadata": {},
   "source": [
    "A _generator_ of a finite field is the element in that field that can generate all the elements of the field by exponentiation."
   ]
  },
  {
   "cell_type": "code",
   "execution_count": 5,
   "metadata": {},
   "outputs": [
    {
     "name": "stdout",
     "output_type": "stream",
     "text": [
      "1\n",
      "3\n",
      "2\n",
      "6\n",
      "4\n",
      "5\n",
      "1\n",
      "3\n",
      "2\n",
      "6\n"
     ]
    }
   ],
   "source": [
    "for i in range(10):\n",
    "    print(10**i%7)"
   ]
  },
  {
   "cell_type": "code",
   "execution_count": 6,
   "metadata": {},
   "outputs": [
    {
     "name": "stdout",
     "output_type": "stream",
     "text": [
      "1 x 0588235294117647 = 0588235294117647\n",
      "2 x 0588235294117647 = 1176470588235294\n",
      "3 x 0588235294117647 = 1764705882352941\n",
      "4 x 0588235294117647 = 2352941176470588\n",
      "5 x 0588235294117647 = 2941176470588235\n",
      "6 x 0588235294117647 = 3529411764705882\n",
      "7 x 0588235294117647 = 4117647058823529\n",
      "8 x 0588235294117647 = 4705882352941176\n",
      "9 x 0588235294117647 = 5294117647058823\n",
      "10 x 0588235294117647 = 5882352941176470\n",
      "11 x 0588235294117647 = 6470588235294117\n",
      "12 x 0588235294117647 = 7058823529411764\n",
      "13 x 0588235294117647 = 7647058823529411\n",
      "14 x 0588235294117647 = 8235294117647058\n",
      "15 x 0588235294117647 = 8823529411764705\n",
      "16 x 0588235294117647 = 9411764705882352\n",
      "17 x 0588235294117647 = 10000000000000000\n"
     ]
    }
   ],
   "source": [
    "z=(10**16-1)/17\n",
    "for i in range(1,18):\n",
    "    print (\"%d x %016d = %016d\"%(i,z,i*z))"
   ]
  },
  {
   "cell_type": "code",
   "execution_count": null,
   "metadata": {
    "collapsed": true
   },
   "outputs": [],
   "source": []
  }
 ],
 "metadata": {
  "kernelspec": {
   "display_name": "Python 3",
   "language": "python",
   "name": "python3"
  }
 },
 "nbformat": 4,
 "nbformat_minor": 1
}
