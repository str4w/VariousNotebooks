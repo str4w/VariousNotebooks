{
 "cells": [
  {
   "cell_type": "code",
   "execution_count": 10,
   "metadata": {},
   "outputs": [
    {
     "name": "stderr",
     "output_type": "stream",
     "text": [
      "Using TensorFlow backend.\n"
     ]
    }
   ],
   "source": [
    "import matplotlib.pyplot as plt\n",
    "import numpy as np\n",
    "from keras.models import Sequential\n",
    "from keras.layers import Dense, Activation\n"
   ]
  },
  {
   "cell_type": "code",
   "execution_count": 26,
   "metadata": {},
   "outputs": [
    {
     "data": {
      "text/plain": [
       "[<matplotlib.lines.Line2D at 0x7ff6053a25f8>]"
      ]
     },
     "execution_count": 26,
     "metadata": {},
     "output_type": "execute_result"
    },
    {
     "data": {
      "image/png": "[encoded data removed]",
      "text/plain": [
       "<Figure size 432x288 with 1 Axes>"
      ]
     },
     "metadata": {},
     "output_type": "display_data"
    }
   ],
   "source": [
    "# defining dataset\n",
    "# 3 sequences\n",
    "# possible missing data\n",
    "# classes - three phase combination or not\n",
    "#\n",
    "# 50 samples\n",
    "# cycles can be 1 - 4\n",
    "# offset can be any\n",
    "# phase offset can be zero, 120, 240\n",
    "t=np.linspace(0,2*np.pi,50)\n",
    "def generate(c,o):\n",
    "    return np.sin(t*c+o)\n",
    "\n",
    "a=generate(2,0)\n",
    "b=generate(2,2*np.pi/3)\n",
    "c=generate(2,4*np.pi/3)\n",
    "\n",
    "def makedatum(valid):\n",
    "    z=np.zeros((50,6))\n",
    "    if valid:\n",
    "        c=int(np.round(1+np.random.rand()*3))\n",
    "        o=np.random.rand()*2*np.pi\n",
    "        z[:,0]=np.sin(t*c+o)\n",
    "        z[:,1]=np.sin(t*c+o+2*np.pi/3)\n",
    "        z[:,2]=np.sin(t*c+o+4*np.pi/3)\n",
    "    else:\n",
    "        for i in [0,1,2]:\n",
    "           c=int(np.round(1+np.random.randint(4)))\n",
    "           o=np.random.rand()*2*np.pi\n",
    "           z[:,i]=np.sin(t*c+o)\n",
    "    z[:,3:6]=np.random.randint(4,size=(50,3))\n",
    "    for i in [0,1,2]:\n",
    "        z[z[:,3+i]==0,i]=0\n",
    "        z[z[:,3+i]>0,3+i]=1\n",
    "    return z        \n",
    "\n",
    "q=makedatum(False)\n",
    "for i in [0,1,2]:\n",
    "        q[q[:,3+i]==0,i]=np.nan\n",
    "plt.plot(q[:,0])\n",
    "plt.plot(q[:,1])\n",
    "plt.plot(q[:,2])\n"
   ]
  },
  {
   "cell_type": "code",
   "execution_count": 27,
   "metadata": {},
   "outputs": [],
   "source": [
    "xtrain=np.zeros((1000,50*6))\n",
    "ytrain=np.zeros((1000,1))\n",
    "for i in range(1000):\n",
    "    ytrain[i]=np.random.randint(2)\n",
    "    xtrain[i,:]=makedatum(ytrain[i]>0).ravel()\n",
    "    \n"
   ]
  },
  {
   "cell_type": "code",
   "execution_count": 28,
   "metadata": {},
   "outputs": [],
   "source": [
    "model = Sequential()\n",
    "model.add(Dense(32, activation='relu', input_dim=50*6))\n",
    "model.add(Dense(1, activation='sigmoid'))\n",
    "model.compile(optimizer='rmsprop',\n",
    "              loss='binary_crossentropy',\n",
    "              metrics=['accuracy'])\n"
   ]
  },
  {
   "cell_type": "code",
   "execution_count": 29,
   "metadata": {},
   "outputs": [
    {
     "name": "stdout",
     "output_type": "stream",
     "text": [
      "Epoch 1/10\n",
      "1000/1000 [==============================] - 0s 84us/step - loss: 0.6869 - acc: 0.5840\n",
      "Epoch 2/10\n",
      "1000/1000 [==============================] - 0s 35us/step - loss: 0.5770 - acc: 0.7380\n",
      "Epoch 3/10\n",
      "1000/1000 [==============================] - 0s 29us/step - loss: 0.5106 - acc: 0.7920\n",
      "Epoch 4/10\n",
      "1000/1000 [==============================] - 0s 33us/step - loss: 0.4354 - acc: 0.8620\n",
      "Epoch 5/10\n",
      "1000/1000 [==============================] - 0s 36us/step - loss: 0.3709 - acc: 0.8970\n",
      "Epoch 6/10\n",
      "1000/1000 [==============================] - 0s 32us/step - loss: 0.3098 - acc: 0.9350\n",
      "Epoch 7/10\n",
      "1000/1000 [==============================] - 0s 44us/step - loss: 0.2610 - acc: 0.9570\n",
      "Epoch 8/10\n",
      "1000/1000 [==============================] - 0s 32us/step - loss: 0.2139 - acc: 0.9740\n",
      "Epoch 9/10\n",
      "1000/1000 [==============================] - 0s 28us/step - loss: 0.1751 - acc: 0.9840\n",
      "Epoch 10/10\n",
      "1000/1000 [==============================] - 0s 29us/step - loss: 0.1419 - acc: 0.9910\n"
     ]
    },
    {
     "data": {
      "text/plain": [
       "<keras.callbacks.History at 0x7ff605389898>"
      ]
     },
     "execution_count": 29,
     "metadata": {},
     "output_type": "execute_result"
    }
   ],
   "source": [
    "# Train the model, iterating on the data in batches of 32 samples\n",
    "model.fit(xtrain, ytrain, epochs=10, batch_size=32)\n"
   ]
  },
  {
   "cell_type": "code",
   "execution_count": 30,
   "metadata": {},
   "outputs": [],
   "source": [
    "xtest=np.zeros((1000,50*6))\n",
    "ytest=np.zeros((1000,1))\n",
    "for i in range(1000):\n",
    "    ytest[i]=np.random.randint(2)\n",
    "    xtest[i,:]=makedatum(ytest[i]>0).ravel()\n"
   ]
  },
  {
   "cell_type": "code",
   "execution_count": 33,
   "metadata": {},
   "outputs": [
    {
     "data": {
      "text/plain": [
       "array([[ 0.23741546],\n",
       "       [ 0.26168081],\n",
       "       [ 0.92593694],\n",
       "       [ 0.97250676],\n",
       "       [ 0.91966718],\n",
       "       [ 0.07737382],\n",
       "       [ 0.97187287],\n",
       "       [ 0.02910854],\n",
       "       [ 0.07339688],\n",
       "       [ 0.27905723]], dtype=float32)"
      ]
     },
     "execution_count": 33,
     "metadata": {},
     "output_type": "execute_result"
    }
   ],
   "source": [
    "model.predict(xtest[:10,:])"
   ]
  },
  {
   "cell_type": "code",
   "execution_count": 34,
   "metadata": {},
   "outputs": [
    {
     "data": {
      "text/plain": [
       "array([[ 0.],\n",
       "       [ 0.],\n",
       "       [ 1.],\n",
       "       [ 1.],\n",
       "       [ 1.],\n",
       "       [ 0.],\n",
       "       [ 1.],\n",
       "       [ 0.],\n",
       "       [ 0.],\n",
       "       [ 0.]])"
      ]
     },
     "execution_count": 34,
     "metadata": {},
     "output_type": "execute_result"
    }
   ],
   "source": [
    "ytest[:10]"
   ]
  },
  {
   "cell_type": "code",
   "execution_count": 21,
   "metadata": {},
   "outputs": [
    {
     "name": "stdout",
     "output_type": "stream",
     "text": [
      "1000/1000 [==============================] - 0s 32us/step\n"
     ]
    },
    {
     "data": {
      "text/plain": [
       "[0.039556739062070849, 0.995]"
      ]
     },
     "execution_count": 21,
     "metadata": {},
     "output_type": "execute_result"
    }
   ],
   "source": [
    "model.evaluate(xtest,ytest,batch_size=32)"
   ]
  },
  {
   "cell_type": "code",
   "execution_count": null,
   "metadata": {},
   "outputs": [],
   "source": []
  }
 ],
 "metadata": {
  "kernelspec": {
   "display_name": "Python (fastai)",
   "language": "python",
   "name": "fastai"
  },
  "language_info": {
   "codemirror_mode": {
    "name": "ipython",
    "version": 3
   },
   "file_extension": ".py",
   "mimetype": "text/x-python",
   "name": "python",
   "nbconvert_exporter": "python",
   "pygments_lexer": "ipython3",
   "version": "3.6.5"
  }
 },
 "nbformat": 4,
 "nbformat_minor": 2
}
