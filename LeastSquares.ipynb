{
 "cells": [
  {
   "cell_type": "markdown",
   "metadata": {},
   "source": [
    "Problem statement\n",
    "1 (a nice linear space)\n",
    "GPS - solve for x,y,z,t given measured t's from many sources.\n",
    "\n",
    "2. (with some constraints)\n",
    "\n",
    "Spaceship, solve for quaternion and position, given many directions of stars.\n",
    "\n",
    "3. (more constraints)\n",
    "\n",
    "Articulated spaceship?"
   ]
  }
 ],
 "metadata": {
  "kernelspec": {
   "display_name": "Python [conda env:opencv]",
   "language": "python",
   "name": "conda-env-opencv-py"
  },
  "language_info": {
   "codemirror_mode": {
    "name": "ipython",
    "version": 3
   },
   "file_extension": ".py",
   "mimetype": "text/x-python",
   "name": "python",
   "nbconvert_exporter": "python",
   "pygments_lexer": "ipython3",
   "version": "3.6.5"
  }
 },
 "nbformat": 4,
 "nbformat_minor": 2
}
