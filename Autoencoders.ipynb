{
 "cells": [
  {
   "cell_type": "code",
   "execution_count": 10,
   "metadata": {},
   "outputs": [
    {
     "name": "stdout",
     "output_type": "stream",
     "text": [
      "60000 28\n",
      "60000\n"
     ]
    }
   ],
   "source": [
    "import keras\n",
    "import numpy as np\n",
    "#dir(keras.datasets)\n",
    "from keras.datasets import mnist,fashion_mnist\n",
    "(mnist_train_x,mnist_train_y),(mnist_test_x,mnist_test_y)=mnist.load_data()\n",
    "(fashion_train_x,fashion_train_y),(fashion_test_x,fashion_test_y)=fashion_mnist.load_data()\n",
    "\n",
    "print(len(mnist_train_x),len(mnist_train_x[0][0]))\n",
    "print(len(fashion_train_x))"
   ]
  },
  {
   "cell_type": "code",
   "execution_count": null,
   "metadata": {},
   "outputs": [],
   "source": []
  }
 ],
 "metadata": {
  "kernelspec": {
   "display_name": "Python (fastai)",
   "language": "python",
   "name": "fastai"
  },
  "language_info": {
   "codemirror_mode": {
    "name": "ipython",
    "version": 3
   },
   "file_extension": ".py",
   "mimetype": "text/x-python",
   "name": "python",
   "nbconvert_exporter": "python",
   "pygments_lexer": "ipython3",
   "version": "3.6.5"
  }
 },
 "nbformat": 4,
 "nbformat_minor": 2
}
